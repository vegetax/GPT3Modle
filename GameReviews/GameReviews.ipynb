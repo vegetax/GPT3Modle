{
 "cells": [
  {
   "cell_type": "code",
   "execution_count": 85,
   "outputs": [],
   "source": [
    "from langchain.document_loaders import YoutubeLoader\n",
    "from langchain.text_splitter import RecursiveCharacterTextSplitter\n",
    "from llama_index import LLMPredictor, PromptHelper, SimpleDirectoryReader, GPTSimpleVectorIndex, Document, GPTListIndex\n",
    "from langchain import OpenAI\n",
    "from langchain.vectorstores import  Pinecone\n",
    "from langchain.embeddings.openai import OpenAIEmbeddings\n",
    "from time import sleep\n",
    "from tqdm import tqdm\n",
    "import pinecone\n",
    "import uuid\n",
    "import json\n",
    "import openai\n",
    "\n",
    "embed_model = \"text-embedding-ada-002\""
   ],
   "metadata": {
    "collapsed": false
   }
  },
  {
   "cell_type": "code",
   "execution_count": 16,
   "outputs": [],
   "source": [
    "# 拉取YouTube上的transcript\n",
    "def loadYoutubeData(url):\n",
    "    loader = YoutubeLoader.from_youtube_url(\n",
    "        url, add_video_info=True)\n",
    "    data = loader.load()\n",
    "    # save_file('data/%s.json' % data[0].metadata['title'], data[0].page_content)\n",
    "\n",
    "    return data\n"
   ],
   "metadata": {
    "collapsed": false
   }
  },
  {
   "cell_type": "code",
   "execution_count": 18,
   "outputs": [
    {
     "name": "stdout",
     "output_type": "stream",
     "text": [
      "You have 1 document(s) in your data\n",
      "There are 20362 characters in your document\n"
     ]
    }
   ],
   "source": [
    "# doc = Document(result[0].page_content.replace(\"\\n\", \" \"))\n",
    "# txt = result[0].page_content.replace(\"\\n\", \" \")\n",
    "print (f'You have {len(result)} document(s) in your data')\n",
    "print (f'There are {len(result[0].page_content)} characters in your document')"
   ],
   "metadata": {
    "collapsed": false
   }
  },
  {
   "cell_type": "code",
   "execution_count": 78,
   "outputs": [
    {
     "name": "stdout",
     "output_type": "stream",
     "text": [
      "[{'id': 'f745e13c-f141-4890-8ed3-20dc0dd994c6', 'text': \"hey guys josh here and on may 26 2022 my time at cenrock the sequel to my time at porsche finally released in early access on steam this is a game i've been looking forward to for quite some time now it had been delayed numerous times as the developer patiai games had to wait for certification from their government before releasing the game but now everything is in order it is finally available for everyone to play so i would like to tell you what i think of this game so far and also how it compares to its predecessor patea games kindly sent me a review key for the game about 3 weeks ago so i've played a fair bit already keep in mind the game is still in early access so this is not a full review as some features are still incomplete and there may be a bit more bugs than there will be in the full release but hopefully this should give you a pretty good idea of how the game is like and if it's for you so let's start with the story characters and overall setting of the game first thing\", 'title': 'Is My Time at Sandrock Already Better Than Portia?', 'author': \"Josh's Gaming Garden\", 'publish_date': '2022-05-29', 'chunk_size': 1000, 'chunk_overlap': 100, 'thumbnail_url': 'https://i.ytimg.com/vi/ziFipUmd7Mg/sddefault.jpg', 'url': 'https://www.youtube.com/watch?v=ziFipUmd7Mg'}, {'id': 'bf3b3157-f5e6-4312-9589-d3548cd27fc1', 'text': \"if it's for you so let's start with the story characters and overall setting of the game first thing you'll do of course is to create your character it is pretty similar to how it was in porsha where you'll get to pick between male and female your character's voice hairstyle adjust some facial features to your liking but now we have a bit more options and flexibility than in the past for example when picking your hairstyle you get to choose the base style but now you can also add some bangs and ponytails if you'd like and adjust the length for each one of these parts individually for more customization that's just one example but if you're familiar with character creation in my timer porsche you can expect something very similar here with senrak but everything has been improved a little bit making the experience more enjoyable and you'll notice this pattern to be true for most of the game it's like porsche but improved once your character is created you'll take your train to cenrock\", 'title': 'Is My Time at Sandrock Already Better Than Portia?', 'author': \"Josh's Gaming Garden\", 'publish_date': '2022-05-29', 'chunk_size': 1000, 'chunk_overlap': 100, 'thumbnail_url': 'https://i.ytimg.com/vi/ziFipUmd7Mg/sddefault.jpg', 'url': 'https://www.youtube.com/watch?v=ziFipUmd7Mg'}]\n"
     ]
    }
   ],
   "source": [
    "video_url= \"https://www.youtube.com/watch?v=ziFipUmd7Mg\"#My Time At Portia\n",
    "#result = loadYoutubeData(\"https://www.youtube.com/watch?v=-aYsmnlET-Q&list=PLJAzFcYKyx4RX5JBq_rXbQNmUdc9Ugbv1\")#wulong\n",
    "# result = loadYoutubeData(\"https://www.youtube.com/watch?v=V56uazDSYcA\")#Animal Crossing:\n",
    "# result = loadYoutubeData(\"https://www.youtube.com/watch?v=hI99HvOHCLI\")#Star valley\n",
    "\n",
    "result = loadYoutubeData(video_url)\n",
    "\n",
    "chunk_size= 1000#chunk大小 字符数\n",
    "chunk_overlap = 100#chunk重叠 字符数\n",
    "video_title = result[0].metadata['title'].replace(\" \", \"\") #标题\n",
    "video_date= result[0].metadata['publish_date'].strftime(\"%Y-%m-%d\")#日期\n",
    "\n",
    "text_splitter = RecursiveCharacterTextSplitter(chunk_size=chunk_size, chunk_overlap=100)#分割文档\n",
    "texts = text_splitter.split_documents(result)#分割文档\n",
    "\n",
    "#构建新数据\n",
    "new_data=[{ 'id':str(uuid.uuid4()),'text': x.page_content.replace(\"\\n\", \" \"),'title':x.metadata['title'] , 'author': x.metadata['author'],'publish_date':video_date,'chunk_size':chunk_size,'chunk_overlap':chunk_overlap, 'thumbnail_url':x.metadata['thumbnail_url'],'url':video_url } for x in texts]\n",
    "\n",
    "#储存新数据\n",
    "json_str = json.dumps(new_data)\n",
    "with open(f'data/{video_title}.json', 'w') as f:\n",
    "    f.write(json_str)\n",
    "\n",
    "print(new_data[0:2])"
   ],
   "metadata": {
    "collapsed": false
   }
  },
  {
   "cell_type": "code",
   "execution_count": 80,
   "outputs": [
    {
     "data": {
      "text/plain": "{'dimension': 1536,\n 'index_fullness': 0.0,\n 'namespaces': {'': {'vector_count': 23}},\n 'total_vector_count': 23}"
     },
     "execution_count": 80,
     "metadata": {},
     "output_type": "execute_result"
    }
   ],
   "source": [
    "import pinecone\n",
    "index_name = 'game-reviews'\n",
    "\n",
    "# initialize connection to pinecone (get API key at app.pinecone.io)\n",
    "pinecone.init(\n",
    "    api_key=\"b32bb33f-57b0-47f5-8669-949c9f6f2f4b\",\n",
    "    environment=\"us-west1-gcp\"  # may be different, check at app.pinecone.io\n",
    ")\n",
    "# connect to index\n",
    "index = pinecone.Index(index_name)\n",
    "# view index stats\n",
    "index.describe_index_stats()\n"
   ],
   "metadata": {
    "collapsed": false
   }
  },
  {
   "cell_type": "code",
   "execution_count": 88,
   "outputs": [
    {
     "name": "stderr",
     "output_type": "stream",
     "text": [
      "100%|██████████| 5/5 [00:06<00:00,  1.27s/it]\n"
     ]
    }
   ],
   "source": [
    "batch_size = 5  # how many embeddings we create and insert at once\n",
    "\n",
    "for i in tqdm(range(0, len(new_data), batch_size)):\n",
    "    # find end of batch\n",
    "    i_end = min(len(new_data), i+batch_size)\n",
    "    meta_batch = new_data[i:i_end]\n",
    "    # get ids\n",
    "    ids_batch = [x['id'] for x in meta_batch]\n",
    "    # get texts to encode\n",
    "    texts = [x['text'] for x in meta_batch]\n",
    "    # create embeddings (try-except added to avoid RateLimitError)\n",
    "    # try:\n",
    "    res = openai.Embedding.create(input=texts, engine=embed_model)\n",
    "    # except:\n",
    "    #     done = False\n",
    "    #     while not done:\n",
    "    #         sleep(5)\n",
    "    #         try:\n",
    "    #             res = openai.Embedding.create(input=texts, engine=embed_model)\n",
    "    #             done = True\n",
    "    #         except:\n",
    "    #             pass\n",
    "    embeds = [record['embedding'] for record in res['data']]\n",
    "    # cleanup metadata\n",
    "    meta_batch = [{\n",
    "        'author': x['author'],\n",
    "        'chunk_overlap': x['chunk_overlap'],\n",
    "         'chunk_size': x['chunk_size'],\n",
    "        'title': x['title'],\n",
    "        'text': x['text'],\n",
    "        'url': x['url'],\n",
    "        'publish_date': x['publish_date'],\n",
    "        'thumbnail_url': x['thumbnail_url']\n",
    "    } for x in meta_batch]\n",
    "    to_upsert = list(zip(ids_batch, embeds, meta_batch))\n",
    "    # upsert to Pinecone\n",
    "    index.upsert(vectors=to_upsert)\n"
   ],
   "metadata": {
    "collapsed": false
   }
  },
  {
   "cell_type": "code",
   "execution_count": 91,
   "outputs": [
    {
     "data": {
      "text/plain": "{'matches': [{'id': '4e139723-38d9-4fab-9dfe-ceb8e87bae6d',\n              'metadata': {'text': 'feels smoother the animations are better '\n                                   'and you can unlock a few simple combos for '\n                                   'each weapon type when you level up your '\n                                   'combat skills they also added a break '\n                                   'mechanic where if you hit an enemy '\n                                   'multiple times in a row they will get '\n                                   'stunned for a few seconds and you can also '\n                                   'dodge you can roll just like you could in '\n                                   'porsche but once again this time around it '\n                                   'just feels a bit smoother and all of these '\n                                   'things combined make the combat feel much '\n                                   'better than in the past also not exactly '\n                                   'combat related but one more thing i would '\n                                   'like to mention is that while in porsche '\n                                   'you can only sprint for a little while '\n                                   'before your character got exhausted in '\n                                   'send rock you can sprint continuously and '\n                                   \"there's even an option letting you choose \"\n                                   'if you want to sprint by holding the '\n                                   'button or just toggling it once and this '\n                                   'makes walking or sprinting between the '\n                                   'different areas a lot more fun and a lot '\n                                   'faster fast travel is also unlocked a lot '\n                                   'faster in this game so there are stops '\n                                   'located all around senrak'},\n              'score': 0.807659328,\n              'values': []},\n             {'id': '785deecf-5f83-49e6-b432-3a2dd802ed05',\n              'metadata': {'author': \"Josh's Gaming Garden\",\n                           'chunk_overlap': 100.0,\n                           'chunk_size': 1000.0,\n                           'publish_date': datetime.date(2022, 5, 29),\n                           'text': 'feels smoother the animations are better '\n                                   'and you can unlock a few simple combos for '\n                                   'each weapon type when you level up your '\n                                   'combat skills they also added a break '\n                                   'mechanic where if you hit an enemy '\n                                   'multiple times in a row they will get '\n                                   'stunned for a few seconds and you can also '\n                                   'dodge you can roll just like you could in '\n                                   'porsche but once again this time around it '\n                                   'just feels a bit smoother and all of these '\n                                   'things combined make the combat feel much '\n                                   'better than in the past also not exactly '\n                                   'combat related but one more thing i would '\n                                   'like to mention is that while in porsche '\n                                   'you can only sprint for a little while '\n                                   'before your character got exhausted in '\n                                   'send rock you can sprint continuously and '\n                                   \"there's even an option letting you choose \"\n                                   'if you want to sprint by holding the '\n                                   'button or just toggling it once and this '\n                                   'makes walking or sprinting between the '\n                                   'different areas a lot more fun and a lot '\n                                   'faster fast travel is also unlocked a lot '\n                                   'faster in this game so there are stops '\n                                   'located all around senrak',\n                           'thumbnail_url': 'https://i.ytimg.com/vi/ziFipUmd7Mg/sddefault.jpg',\n                           'title': 'Is My Time at Sandrock Already Better '\n                                    'Than Portia?',\n                           'url': 'https://www.youtube.com/watch?v=ziFipUmd7Mg'},\n              'score': 0.807195067,\n              'values': []},\n             {'id': '4fe3bdfd-f0d8-457d-abe8-abea215603a5',\n              'metadata': {'text': 'have longer days if you prefer to take '\n                                   'things slowly and do more different things '\n                                   'in a day and i really enjoy the '\n                                   'flexibility that the game offers to suit '\n                                   'different play styles allowing everyone to '\n                                   \"enjoy the game in their own way and that's \"\n                                   'true for the game as a whole by the way '\n                                   'except for a few quests and commissions '\n                                   'with limited time you can do pretty much '\n                                   'anything you want whenever you want and at '\n                                   'your own pace the last big part of this '\n                                   'game i would like to address is the combat '\n                                   'once again this was improved quite a bit '\n                                   'from porsche which a lot of people thought '\n                                   'to be lackluster this time you can pick '\n                                   \"from four melee weapon types so there's a \"\n                                   'one-handed two-handed daggers and spear '\n                                   \"there's also a pistol for long-range \"\n                                   'combat and the first big improvement is '\n                                   \"obviously this diversity and how there's \"\n                                   'different weapon types to fit each '\n                                   \"player's preferred style and the combat \"\n                                   'also just feels smoother the animations '\n                                   'are better and you can unlock a few simple '\n                                   'combos for each weapon type'},\n              'score': 0.800034523,\n              'values': []}],\n 'namespace': ''}"
     },
     "execution_count": 91,
     "metadata": {},
     "output_type": "execute_result"
    }
   ],
   "source": [
    "query = \"what are the game mechanic and key features of this game?\"\n",
    "xq = openai.Embedding.create(input=query, engine=embed_model)['data'][0]['embedding']\n",
    "res = index.query([xq], top_k=3, include_metadata=True)"
   ],
   "metadata": {
    "collapsed": false
   }
  },
  {
   "cell_type": "code",
   "execution_count": 97,
   "outputs": [
    {
     "name": "stdout",
     "output_type": "stream",
     "text": [
      "0.808: feels smoother the animations are better and you can unlock a few simple combos for each weapon type when you level up your combat skills they also added a break mechanic where if you hit an enemy multiple times in a row they will get stunned for a few seconds and you can also dodge you can roll just like you could in porsche but once again this time around it just feels a bit smoother and all of these things combined make the combat feel much better than in the past also not exactly combat related but one more thing i would like to mention is that while in porsche you can only sprint for a little while before your character got exhausted in send rock you can sprint continuously and there's even an option letting you choose if you want to sprint by holding the button or just toggling it once and this makes walking or sprinting between the different areas a lot more fun and a lot faster fast travel is also unlocked a lot faster in this game so there are stops located all around senrak\n",
      "0.807: feels smoother the animations are better and you can unlock a few simple combos for each weapon type when you level up your combat skills they also added a break mechanic where if you hit an enemy multiple times in a row they will get stunned for a few seconds and you can also dodge you can roll just like you could in porsche but once again this time around it just feels a bit smoother and all of these things combined make the combat feel much better than in the past also not exactly combat related but one more thing i would like to mention is that while in porsche you can only sprint for a little while before your character got exhausted in send rock you can sprint continuously and there's even an option letting you choose if you want to sprint by holding the button or just toggling it once and this makes walking or sprinting between the different areas a lot more fun and a lot faster fast travel is also unlocked a lot faster in this game so there are stops located all around senrak\n",
      "0.800: have longer days if you prefer to take things slowly and do more different things in a day and i really enjoy the flexibility that the game offers to suit different play styles allowing everyone to enjoy the game in their own way and that's true for the game as a whole by the way except for a few quests and commissions with limited time you can do pretty much anything you want whenever you want and at your own pace the last big part of this game i would like to address is the combat once again this was improved quite a bit from porsche which a lot of people thought to be lackluster this time you can pick from four melee weapon types so there's a one-handed two-handed daggers and spear there's also a pistol for long-range combat and the first big improvement is obviously this diversity and how there's different weapon types to fit each player's preferred style and the combat also just feels smoother the animations are better and you can unlock a few simple combos for each weapon type\n"
     ]
    }
   ],
   "source": [
    "for match in res['matches']:\n",
    "    print(f\"{match['score']:.3f}: {match['metadata']['text']}\")"
   ],
   "metadata": {
    "collapsed": false
   }
  },
  {
   "cell_type": "code",
   "execution_count": 30,
   "outputs": [
    {
     "data": {
      "text/plain": "[Document(page_content=\"feels smoother the animations are better and you can unlock a few simple combos for each weapon type when you level up your combat skills they also added a break mechanic where if you hit an enemy multiple times in a row they will get stunned for a few seconds and you can also dodge you can roll just like you could in porsche but once again this time around it just feels a bit smoother and all of these things combined make the combat feel much better than in the past also not exactly combat related but one more thing i would like to mention is that while in porsche you can only sprint for a little while before your character got exhausted in send rock you can sprint continuously and there's even an option letting you choose if you want to sprint by holding the button or just toggling it once and this makes walking or sprinting between the different areas a lot more fun and a lot faster fast travel is also unlocked a lot faster in this game so there are stops located all around senrak\", lookup_str='', metadata={}, lookup_index=0),\n Document(page_content=\"have longer days if you prefer to take things slowly and do more different things in a day and i really enjoy the flexibility that the game offers to suit different play styles allowing everyone to enjoy the game in their own way and that's true for the game as a whole by the way except for a few quests and commissions with limited time you can do pretty much anything you want whenever you want and at your own pace the last big part of this game i would like to address is the combat once again this was improved quite a bit from porsche which a lot of people thought to be lackluster this time you can pick from four melee weapon types so there's a one-handed two-handed daggers and spear there's also a pistol for long-range combat and the first big improvement is obviously this diversity and how there's different weapon types to fit each player's preferred style and the combat also just feels smoother the animations are better and you can unlock a few simple combos for each weapon type\", lookup_str='', metadata={}, lookup_index=0),\n Document(page_content=\"hey guys josh here and on may 26 2022 my time at cenrock the sequel to my time at porsche finally released in early access on steam this is a game i've been looking forward to for quite some time now it had been delayed numerous times as the developer patiai games had to wait for certification from their government before releasing the game but now everything is in order it is finally available for everyone to play so i would like to tell you what i think of this game so far and also how it compares to its predecessor patea games kindly sent me a review key for the game about 3 weeks ago so i've played a fair bit already keep in mind the game is still in early access so this is not a full review as some features are still incomplete and there may be a bit more bugs than there will be in the full release but hopefully this should give you a pretty good idea of how the game is like and if it's for you so let's start with the story characters and overall setting of the game first thing\", lookup_str='', metadata={}, lookup_index=0),\n Document(page_content=\"game it's like porsche but improved once your character is created you'll take your train to cenrock where you will replace mason a retiring builder who's planning to leave the town at first senrock doesn't look like the most welcoming place it's in the desert water is very scarce there isn't much to do for tourists and villagers but on the other hand as a builder there's so much work to do that it's hard to keep track of everything you'll get commissions to build things for the town do part-time jobs or errands to help local businesses and you'll protect senrock from threats that are becoming more and more frequent all of this while breathing the same storms i usually don't pay too much attention to the story in these type of games but with sandrock i found it really engaging whether it is the main story or one of the multiple side quests partly thanks to the way events are animated with cutscenes as well as the brilliant and diverse cast doing the voiceover it's very easy to follow\", lookup_str='', metadata={}, lookup_index=0),\n Document(page_content=\"simple and what i really like is that each crafting station has a tab where it tells you exactly what you need to craft for your different quests so you don't have to spend too much time figuring that out and even though it looks complex it's pretty simple i also really like how this game manages chests and inventory so you'll be collecting tons of different items all the time but things like the ability to expand your backpack at any time anywhere by using coins sorting and transfer features to keep your chest well organized also all the chests being connected to each other meaning you can see the content of all of your chests simply by opening one of them also the ability to replace a small chest with a bigger one without having to transfer the items manually and most important of all crafting with items that are in your chest so that you don't have to take anything out you don't need to have something in your backpack to craft with it so this game is filled with little quality of\", lookup_str='', metadata={}, lookup_index=0)]"
     },
     "execution_count": 30,
     "metadata": {},
     "output_type": "execute_result"
    }
   ],
   "source": [
    "docs\n"
   ],
   "metadata": {
    "collapsed": false
   }
  }
 ],
 "metadata": {
  "kernelspec": {
   "display_name": "Python 3",
   "language": "python",
   "name": "python3"
  },
  "language_info": {
   "codemirror_mode": {
    "name": "ipython",
    "version": 2
   },
   "file_extension": ".py",
   "mimetype": "text/x-python",
   "name": "python",
   "nbconvert_exporter": "python",
   "pygments_lexer": "ipython2",
   "version": "2.7.6"
  }
 },
 "nbformat": 4,
 "nbformat_minor": 0
}
