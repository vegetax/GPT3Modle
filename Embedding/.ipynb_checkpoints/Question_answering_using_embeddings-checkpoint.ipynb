{
 "cells": [
  {
   "cell_type": "code",
   "execution_count": 1,
   "metadata": {},
   "outputs": [
    {
     "name": "stdout",
     "output_type": "stream",
     "text": [
      "Requirement already satisfied: openai in /Users/xingmingzhe/opt/anaconda3/envs/myPy/lib/python3.10/site-packages (0.27.0)\r\n",
      "Requirement already satisfied: tqdm in /Users/xingmingzhe/opt/anaconda3/envs/myPy/lib/python3.10/site-packages (from openai) (4.65.0)\r\n",
      "Requirement already satisfied: requests>=2.20 in /Users/xingmingzhe/opt/anaconda3/envs/myPy/lib/python3.10/site-packages (from openai) (2.28.1)\r\n",
      "Requirement already satisfied: aiohttp in /Users/xingmingzhe/opt/anaconda3/envs/myPy/lib/python3.10/site-packages (from openai) (3.8.4)\r\n",
      "Requirement already satisfied: urllib3<1.27,>=1.21.1 in /Users/xingmingzhe/opt/anaconda3/envs/myPy/lib/python3.10/site-packages (from requests>=2.20->openai) (1.26.14)\r\n",
      "Requirement already satisfied: charset-normalizer<3,>=2 in /Users/xingmingzhe/opt/anaconda3/envs/myPy/lib/python3.10/site-packages (from requests>=2.20->openai) (2.0.4)\r\n",
      "Requirement already satisfied: certifi>=2017.4.17 in /Users/xingmingzhe/opt/anaconda3/envs/myPy/lib/python3.10/site-packages (from requests>=2.20->openai) (2022.12.7)\r\n",
      "Requirement already satisfied: idna<4,>=2.5 in /Users/xingmingzhe/opt/anaconda3/envs/myPy/lib/python3.10/site-packages (from requests>=2.20->openai) (3.4)\r\n",
      "Requirement already satisfied: aiosignal>=1.1.2 in /Users/xingmingzhe/opt/anaconda3/envs/myPy/lib/python3.10/site-packages (from aiohttp->openai) (1.3.1)\r\n",
      "Requirement already satisfied: frozenlist>=1.1.1 in /Users/xingmingzhe/opt/anaconda3/envs/myPy/lib/python3.10/site-packages (from aiohttp->openai) (1.3.3)\r\n",
      "Requirement already satisfied: yarl<2.0,>=1.0 in /Users/xingmingzhe/opt/anaconda3/envs/myPy/lib/python3.10/site-packages (from aiohttp->openai) (1.8.2)\r\n",
      "Requirement already satisfied: attrs>=17.3.0 in /Users/xingmingzhe/opt/anaconda3/envs/myPy/lib/python3.10/site-packages (from aiohttp->openai) (22.1.0)\r\n",
      "Requirement already satisfied: multidict<7.0,>=4.5 in /Users/xingmingzhe/opt/anaconda3/envs/myPy/lib/python3.10/site-packages (from aiohttp->openai) (6.0.4)\r\n",
      "Requirement already satisfied: async-timeout<5.0,>=4.0.0a3 in /Users/xingmingzhe/opt/anaconda3/envs/myPy/lib/python3.10/site-packages (from aiohttp->openai) (4.0.2)\r\n"
     ]
    }
   ],
   "source": [
    "!pip install openai\n"
   ]
  },
  {
   "cell_type": "code",
   "execution_count": null,
   "metadata": {},
   "outputs": [],
   "source": [
    "import numpy as np\n",
    "import openai\n",
    "import pandas as pd\n",
    "import pickle\n",
    "import tiktoken\n",
    "\n",
    "COMPLETIONS_MODEL = \"text-davinci-003\"\n",
    "EMBEDDING_MODEL = \"text-embedding-ada-002\""
   ]
  },
  {
   "cell_type": "code",
   "execution_count": null,
   "metadata": {},
   "outputs": [],
   "source": []
  }
 ],
 "metadata": {
  "kernelspec": {
   "display_name": "Python 3 (ipykernel)",
   "language": "python",
   "name": "python3"
  },
  "language_info": {
   "codemirror_mode": {
    "name": "ipython",
    "version": 3
   },
   "file_extension": ".py",
   "mimetype": "text/x-python",
   "name": "python",
   "nbconvert_exporter": "python",
   "pygments_lexer": "ipython3",
   "version": "3.10.9"
  }
 },
 "nbformat": 4,
 "nbformat_minor": 2
}
