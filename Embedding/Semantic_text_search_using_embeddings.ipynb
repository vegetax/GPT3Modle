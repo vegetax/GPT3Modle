{
 "cells": [
  {
   "cell_type": "markdown",
   "metadata": {},
   "source": [
    "## Semantic text search using embeddings\n",
    "\n",
    "We can search through all our reviews semantically in a very efficient manner and at very low cost, by simply embedding our search query, and then finding the most similar reviews. The dataset is created in the [Obtain_dataset Notebook](Obtain_dataset.ipynb)."
   ]
  },
  {
   "cell_type": "code",
   "execution_count": 20,
   "outputs": [
    {
     "name": "stdout",
     "output_type": "stream",
     "text": [
      "Collecting scikit-learn\r\n",
      "  Using cached scikit_learn-1.2.1-cp310-cp310-macosx_12_0_arm64.whl (8.4 MB)\r\n",
      "Requirement already satisfied: scipy in /Users/xingmingzhe/opt/anaconda3/envs/myPy/lib/python3.10/site-packages (1.10.1)\r\n",
      "Requirement already satisfied: matplotlib in /Users/xingmingzhe/opt/anaconda3/envs/myPy/lib/python3.10/site-packages (3.7.1)\r\n",
      "Requirement already satisfied: numpy>=1.17.3 in /Users/xingmingzhe/opt/anaconda3/envs/myPy/lib/python3.10/site-packages (from scikit-learn) (1.24.2)\r\n",
      "Collecting threadpoolctl>=2.0.0\r\n",
      "  Using cached threadpoolctl-3.1.0-py3-none-any.whl (14 kB)\r\n",
      "Collecting joblib>=1.1.1\r\n",
      "  Using cached joblib-1.2.0-py3-none-any.whl (297 kB)\r\n",
      "Requirement already satisfied: packaging>=20.0 in /Users/xingmingzhe/opt/anaconda3/envs/myPy/lib/python3.10/site-packages (from matplotlib) (22.0)\r\n",
      "Requirement already satisfied: pyparsing>=2.3.1 in /Users/xingmingzhe/opt/anaconda3/envs/myPy/lib/python3.10/site-packages (from matplotlib) (3.0.9)\r\n",
      "Requirement already satisfied: python-dateutil>=2.7 in /Users/xingmingzhe/opt/anaconda3/envs/myPy/lib/python3.10/site-packages (from matplotlib) (2.8.2)\r\n",
      "Requirement already satisfied: cycler>=0.10 in /Users/xingmingzhe/opt/anaconda3/envs/myPy/lib/python3.10/site-packages (from matplotlib) (0.11.0)\r\n",
      "Requirement already satisfied: kiwisolver>=1.0.1 in /Users/xingmingzhe/opt/anaconda3/envs/myPy/lib/python3.10/site-packages (from matplotlib) (1.4.4)\r\n",
      "Requirement already satisfied: fonttools>=4.22.0 in /Users/xingmingzhe/opt/anaconda3/envs/myPy/lib/python3.10/site-packages (from matplotlib) (4.39.0)\r\n",
      "Requirement already satisfied: pillow>=6.2.0 in /Users/xingmingzhe/opt/anaconda3/envs/myPy/lib/python3.10/site-packages (from matplotlib) (9.4.0)\r\n",
      "Requirement already satisfied: contourpy>=1.0.1 in /Users/xingmingzhe/opt/anaconda3/envs/myPy/lib/python3.10/site-packages (from matplotlib) (1.0.7)\r\n",
      "Requirement already satisfied: six>=1.5 in /Users/xingmingzhe/opt/anaconda3/envs/myPy/lib/python3.10/site-packages (from python-dateutil>=2.7->matplotlib) (1.16.0)\r\n",
      "Installing collected packages: threadpoolctl, joblib, scikit-learn\r\n",
      "Successfully installed joblib-1.2.0 scikit-learn-1.2.1 threadpoolctl-3.1.0\r\n"
     ]
    }
   ],
   "source": [
    "!pip install -U scikit-learn scipy matplotlib"
   ],
   "metadata": {
    "collapsed": false
   }
  },
  {
   "cell_type": "code",
   "execution_count": 10,
   "metadata": {},
   "outputs": [
    {
     "data": {
      "text/plain": "   Unnamed: 0   ProductId          UserId  Score  \\\n0           0  B003XPF9BO  A3R7JR3FMEBXQB      5   \n1         297  B003VXHGPK  A21VWSCGW7UUAR      4   \n2         296  B008JKTTUA  A34XBAIFT02B60      1   \n3         295  B000LKTTTW  A14MQ40CCU8B13      5   \n4         294  B001D09KAM  A34XBAIFT02B60      1   \n\n                                             Summary  \\\n0  where does one  start...and stop... with a tre...   \n1                   Good, but not Wolfgang Puck good   \n2  Should advertise coconut as an ingredient more...   \n3                                   Best tomato soup   \n4  Should advertise coconut as an ingredient more...   \n\n                                                Text  \\\n0  Wanted to save some to bring to my Chicago fam...   \n1  Honestly, I have to admit that I expected a li...   \n2  First, these should be called Mac - Coconut ba...   \n3  I have a hard time finding packaged food of an...   \n4  First, these should be called Mac - Coconut ba...   \n\n                                            combined  n_tokens  \\\n0  Title: where does one  start...and stop... wit...        52   \n1  Title: Good, but not Wolfgang Puck good; Conte...       178   \n2  Title: Should advertise coconut as an ingredie...        78   \n3  Title: Best tomato soup; Content: I have a har...       111   \n4  Title: Should advertise coconut as an ingredie...        78   \n\n                                           embedding  \n0  [0.007018072064965963, -0.02731654793024063, 0...  \n1  [-0.003140551969408989, -0.009995664469897747,...  \n2  [-0.01757248118519783, -8.266511576948687e-05,...  \n3  [-0.0013932279543951154, -0.011112828738987446...  \n4  [-0.01757248118519783, -8.266511576948687e-05,...  ",
      "text/html": "<div>\n<style scoped>\n    .dataframe tbody tr th:only-of-type {\n        vertical-align: middle;\n    }\n\n    .dataframe tbody tr th {\n        vertical-align: top;\n    }\n\n    .dataframe thead th {\n        text-align: right;\n    }\n</style>\n<table border=\"1\" class=\"dataframe\">\n  <thead>\n    <tr style=\"text-align: right;\">\n      <th></th>\n      <th>Unnamed: 0</th>\n      <th>ProductId</th>\n      <th>UserId</th>\n      <th>Score</th>\n      <th>Summary</th>\n      <th>Text</th>\n      <th>combined</th>\n      <th>n_tokens</th>\n      <th>embedding</th>\n    </tr>\n  </thead>\n  <tbody>\n    <tr>\n      <th>0</th>\n      <td>0</td>\n      <td>B003XPF9BO</td>\n      <td>A3R7JR3FMEBXQB</td>\n      <td>5</td>\n      <td>where does one  start...and stop... with a tre...</td>\n      <td>Wanted to save some to bring to my Chicago fam...</td>\n      <td>Title: where does one  start...and stop... wit...</td>\n      <td>52</td>\n      <td>[0.007018072064965963, -0.02731654793024063, 0...</td>\n    </tr>\n    <tr>\n      <th>1</th>\n      <td>297</td>\n      <td>B003VXHGPK</td>\n      <td>A21VWSCGW7UUAR</td>\n      <td>4</td>\n      <td>Good, but not Wolfgang Puck good</td>\n      <td>Honestly, I have to admit that I expected a li...</td>\n      <td>Title: Good, but not Wolfgang Puck good; Conte...</td>\n      <td>178</td>\n      <td>[-0.003140551969408989, -0.009995664469897747,...</td>\n    </tr>\n    <tr>\n      <th>2</th>\n      <td>296</td>\n      <td>B008JKTTUA</td>\n      <td>A34XBAIFT02B60</td>\n      <td>1</td>\n      <td>Should advertise coconut as an ingredient more...</td>\n      <td>First, these should be called Mac - Coconut ba...</td>\n      <td>Title: Should advertise coconut as an ingredie...</td>\n      <td>78</td>\n      <td>[-0.01757248118519783, -8.266511576948687e-05,...</td>\n    </tr>\n    <tr>\n      <th>3</th>\n      <td>295</td>\n      <td>B000LKTTTW</td>\n      <td>A14MQ40CCU8B13</td>\n      <td>5</td>\n      <td>Best tomato soup</td>\n      <td>I have a hard time finding packaged food of an...</td>\n      <td>Title: Best tomato soup; Content: I have a har...</td>\n      <td>111</td>\n      <td>[-0.0013932279543951154, -0.011112828738987446...</td>\n    </tr>\n    <tr>\n      <th>4</th>\n      <td>294</td>\n      <td>B001D09KAM</td>\n      <td>A34XBAIFT02B60</td>\n      <td>1</td>\n      <td>Should advertise coconut as an ingredient more...</td>\n      <td>First, these should be called Mac - Coconut ba...</td>\n      <td>Title: Should advertise coconut as an ingredie...</td>\n      <td>78</td>\n      <td>[-0.01757248118519783, -8.266511576948687e-05,...</td>\n    </tr>\n  </tbody>\n</table>\n</div>"
     },
     "execution_count": 10,
     "metadata": {},
     "output_type": "execute_result"
    }
   ],
   "source": [
    "import pandas as pd\n",
    "import numpy as np\n",
    "\n",
    "datafile_path = \"data/fine_food_reviews_with_embeddings_1k.csv\"\n",
    "\n",
    "df = pd.read_csv(datafile_path)\n",
    "df[\"embedding\"] = df.embedding.apply(eval).apply(np.array)\n",
    "df.head()"
   ]
  },
  {
   "cell_type": "markdown",
   "source": [
    "Remember to use the documents embedding engine for documents (in this case reviews), and query embedding engine for queries. Note that here we just compare the cosine similarity of the embeddings of the query and the documents, and show top_n best matches."
   ],
   "metadata": {
    "collapsed": false
   }
  },
  {
   "cell_type": "code",
   "execution_count": 21,
   "outputs": [
    {
     "name": "stdout",
     "output_type": "stream",
     "text": [
      "Good Buy:  I liked the beans. They were vacuum sealed, plump and moist. Would recommend them for any use. I personally split and stuck them in some vodka to make vanilla extract. Yum!\n",
      "\n",
      "Jamaican Blue beans:  Excellent coffee bean for roasting. Our family just purchased another 5 pounds for more roasting. Plenty of flavor and mild on acidity when roasted to a dark brown bean and befor\n",
      "\n",
      "Delicious!:  I enjoy this white beans seasoning, it gives a rich flavor to the beans I just love it, my mother in law didn't know about this Zatarain's brand and now she is traying different seasoning\n",
      "\n"
     ]
    }
   ],
   "source": [
    "from openai.embeddings_utils import get_embedding, cosine_similarity\n",
    "\n",
    "# search through the reviews for a specific product\n",
    "def search_reviews(df, product_description, n=3, pprint=True):\n",
    "    product_embedding = get_embedding(\n",
    "        product_description,\n",
    "        engine=\"text-embedding-ada-002\"\n",
    "    )\n",
    "    df[\"similarity\"] = df.embedding.apply(lambda x: cosine_similarity(x, product_embedding))\n",
    "\n",
    "    results = (\n",
    "        df.sort_values(\"similarity\", ascending=False)\n",
    "        .head(n)\n",
    "        .combined.str.replace(\"Title: \", \"\")\n",
    "        .str.replace(\"; Content:\", \": \")\n",
    "    )\n",
    "    if pprint:\n",
    "        for r in results:\n",
    "            print(r[:200])\n",
    "            print()\n",
    "    return results\n",
    "\n",
    "\n",
    "results = search_reviews(df, \"delicious beans\", n=3)\n"
   ],
   "metadata": {
    "collapsed": false
   }
  },
  {
   "cell_type": "code",
   "execution_count": 22,
   "metadata": {},
   "outputs": [
    {
     "name": "stdout",
     "output_type": "stream",
     "text": [
      "Tasty and Quick Pasta:  Barilla Whole Grain Fusilli with Vegetable Marinara is tasty and has an excellent chunky vegetable marinara.  I just wish there was more of it.  If you aren't starving or on a \n",
      "\n",
      "sooo good:  tastes so good. Worth the money. My boyfriend hates wheat pasta and LOVES this. cooks fast tastes great.I love this brand and started buying more of their pastas. Bulk is best.\n",
      "\n",
      "Handy:  Love the idea of ready in a minute pasta and for that alone this product gets praise.  The pasta is whole grain so that's a big plus and it actually comes out al dente.  The vegetable marinara\n",
      "\n"
     ]
    }
   ],
   "source": [
    "results = search_reviews(df, \"whole wheat pasta\", n=3)"
   ]
  },
  {
   "cell_type": "markdown",
   "metadata": {},
   "source": [
    "We can search through these reviews easily. To speed up computation, we can use a special algorithm, aimed at faster search through embeddings."
   ]
  },
  {
   "cell_type": "code",
   "execution_count": 23,
   "metadata": {},
   "outputs": [
    {
     "name": "stdout",
     "output_type": "stream",
     "text": [
      "great product, poor delivery:  The coffee is excellent and I am a repeat buyer.  Problem this time was with the UPS delivery.  They left the box in front of my garage door in the middle of the drivewa\n",
      "\n"
     ]
    }
   ],
   "source": [
    "results = search_reviews(df, \"bad delivery\", n=1)"
   ]
  },
  {
   "cell_type": "markdown",
   "metadata": {},
   "source": [
    "As we can see, this can immediately deliver a lot of value. In this example we show being able to quickly find the examples of delivery failures."
   ]
  },
  {
   "cell_type": "code",
   "execution_count": 24,
   "metadata": {},
   "outputs": [
    {
     "name": "stdout",
     "output_type": "stream",
     "text": [
      "Extremely dissapointed:  Hi,<br />I am very disappointed with the past shipment I received of the ONE coconut water. 3 of the boxes were leaking and the coconut water was spoiled.<br /><br />Thanks.<b\n",
      "\n"
     ]
    }
   ],
   "source": [
    "results = search_reviews(df, \"spoilt\", n=1)"
   ]
  },
  {
   "cell_type": "code",
   "execution_count": 25,
   "metadata": {},
   "outputs": [
    {
     "name": "stdout",
     "output_type": "stream",
     "text": [
      "Good food:  The only dry food my queen cat will eat. Helps prevent hair balls. Good packaging. Arrives promptly. Recommended by a friend who sells pet food.\n",
      "\n",
      "The cats like it:  My 7 cats like this food but it is a little yucky for the human. Pieces of mackerel swimming in a dark broth. It is billed as a \"complete\" food and contains carrots, peas and pasta.\n",
      "\n"
     ]
    }
   ],
   "source": [
    "results = search_reviews(df, \"pet food\", n=2)\n"
   ]
  }
 ],
 "metadata": {
  "kernelspec": {
   "display_name": "openai",
   "language": "python",
   "name": "python3"
  },
  "language_info": {
   "codemirror_mode": {
    "name": "ipython",
    "version": 3
   },
   "file_extension": ".py",
   "mimetype": "text/x-python",
   "name": "python",
   "nbconvert_exporter": "python",
   "pygments_lexer": "ipython3",
   "version": "3.9.9"
  },
  "orig_nbformat": 4,
  "vscode": {
   "interpreter": {
    "hash": "365536dcbde60510dc9073d6b991cd35db2d9bac356a11f5b64279a5e6708b97"
   }
  }
 },
 "nbformat": 4,
 "nbformat_minor": 2
}
